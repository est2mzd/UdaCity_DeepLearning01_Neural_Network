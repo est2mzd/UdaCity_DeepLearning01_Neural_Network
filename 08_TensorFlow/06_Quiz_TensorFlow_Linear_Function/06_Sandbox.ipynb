{
 "cells": [
  {
   "cell_type": "code",
   "execution_count": 1,
   "metadata": {},
   "outputs": [],
   "source": [
    "# Solution is available in the other \"sandbox_solution.py\" tab\n",
    "import tensorflow as tf\n",
    "from tensorflow.examples.tutorials.mnist import input_data\n",
    "from quiz_06 import get_weights, get_biases, linear"
   ]
  },
  {
   "cell_type": "code",
   "execution_count": 2,
   "metadata": {},
   "outputs": [],
   "source": [
    "def mnist_features_labels(n_labels):\n",
    "    \"\"\"\n",
    "    Gets the first <n> labels from the MNIST dataset\n",
    "    :param n_labels: Number of labels to use\n",
    "    :return: Tuple of feature list and label list\n",
    "    \"\"\"\n",
    "    mnist_features = []\n",
    "    mnist_labels   = []\n",
    "    flag_print     = 0\n",
    "    mnist = input_data.read_data_sets('/datasets/ud730/mnist', one_hot=True);\n",
    "    \n",
    "    # In order to make quizzes run faster, we're only looking at 10000 images\n",
    "    # mnist.train.next_batch(10000) を解凍して\n",
    "    # mnist_feature, mnist_label　を得ている\n",
    "    for mnist_feature, mnist_label in zip(*mnist.train.next_batch(10000)):\n",
    "\n",
    "        # Add features and labels if it's for the first <n>th labels\n",
    "        # ラベルは、0～9まである。\n",
    "        # ここでは、ラベルは 0～2 の3個を対象として訓練する\n",
    "        # 先頭の 0～2 の　どれかにヒットしたものを対象とするために .any()を用いる\n",
    "        if mnist_label[:n_labels].any():\n",
    "            mnist_features.append(mnist_feature);\n",
    "            mnist_labels.append(mnist_label[:n_labels]);\n",
    "            \n",
    "            if flag_print == 0:\n",
    "                print(\"--------------------------------\")\n",
    "                print(\"mnist_feature[:5] = \", mnist_feature[:5]);\n",
    "                print(\"--------------------------------\")\n",
    "                print(\"mnist_feature.shape = \", mnist_feature.shape);\n",
    "                print(\"--------------------------------\")\n",
    "                print(\"mnist_label[:n_labels] = \", mnist_label[:n_labels]);\n",
    "                flag_print += 1\n",
    "\n",
    "    return mnist_features, mnist_labels"
   ]
  },
  {
   "cell_type": "code",
   "execution_count": 3,
   "metadata": {},
   "outputs": [
    {
     "name": "stdout",
     "output_type": "stream",
     "text": [
      "------------------------\n",
      "w      =  <tf.Variable 'Variable:0' shape=(784, 3) dtype=float32_ref>\n",
      "b      =  <tf.Variable 'Variable_1:0' shape=(3,) dtype=float32_ref>\n",
      "logits =  Tensor(\"Add:0\", shape=(?, 3), dtype=float32)\n",
      "------------------------\n",
      "WARNING:tensorflow:From <ipython-input-2-1b78b61f4f61>:10: read_data_sets (from tensorflow.contrib.learn.python.learn.datasets.mnist) is deprecated and will be removed in a future version.\n",
      "Instructions for updating:\n",
      "Please use alternatives such as official/mnist/dataset.py from tensorflow/models.\n",
      "WARNING:tensorflow:From C:\\Users\\mbd_p\\Anaconda3\\envs\\UdaCity_01_Intro_ML\\lib\\site-packages\\tensorflow\\contrib\\learn\\python\\learn\\datasets\\mnist.py:260: maybe_download (from tensorflow.contrib.learn.python.learn.datasets.base) is deprecated and will be removed in a future version.\n",
      "Instructions for updating:\n",
      "Please write your own downloading logic.\n",
      "WARNING:tensorflow:From C:\\Users\\mbd_p\\Anaconda3\\envs\\UdaCity_01_Intro_ML\\lib\\site-packages\\tensorflow\\contrib\\learn\\python\\learn\\datasets\\mnist.py:262: extract_images (from tensorflow.contrib.learn.python.learn.datasets.mnist) is deprecated and will be removed in a future version.\n",
      "Instructions for updating:\n",
      "Please use tf.data to implement this functionality.\n",
      "Extracting /datasets/ud730/mnist\\train-images-idx3-ubyte.gz\n",
      "WARNING:tensorflow:From C:\\Users\\mbd_p\\Anaconda3\\envs\\UdaCity_01_Intro_ML\\lib\\site-packages\\tensorflow\\contrib\\learn\\python\\learn\\datasets\\mnist.py:267: extract_labels (from tensorflow.contrib.learn.python.learn.datasets.mnist) is deprecated and will be removed in a future version.\n",
      "Instructions for updating:\n",
      "Please use tf.data to implement this functionality.\n",
      "Extracting /datasets/ud730/mnist\\train-labels-idx1-ubyte.gz\n",
      "WARNING:tensorflow:From C:\\Users\\mbd_p\\Anaconda3\\envs\\UdaCity_01_Intro_ML\\lib\\site-packages\\tensorflow\\contrib\\learn\\python\\learn\\datasets\\mnist.py:110: dense_to_one_hot (from tensorflow.contrib.learn.python.learn.datasets.mnist) is deprecated and will be removed in a future version.\n",
      "Instructions for updating:\n",
      "Please use tf.one_hot on tensors.\n",
      "Extracting /datasets/ud730/mnist\\t10k-images-idx3-ubyte.gz\n",
      "Extracting /datasets/ud730/mnist\\t10k-labels-idx1-ubyte.gz\n",
      "WARNING:tensorflow:From C:\\Users\\mbd_p\\Anaconda3\\envs\\UdaCity_01_Intro_ML\\lib\\site-packages\\tensorflow\\contrib\\learn\\python\\learn\\datasets\\mnist.py:290: DataSet.__init__ (from tensorflow.contrib.learn.python.learn.datasets.mnist) is deprecated and will be removed in a future version.\n",
      "Instructions for updating:\n",
      "Please use alternatives such as official/mnist/dataset.py from tensorflow/models.\n",
      "--------------------------------\n",
      "mnist_feature[:5] =  [0. 0. 0. 0. 0.]\n",
      "--------------------------------\n",
      "mnist_feature.shape =  (784,)\n",
      "--------------------------------\n",
      "mnist_label[:n_labels] =  [0. 1. 0.]\n"
     ]
    }
   ],
   "source": [
    "# Number of features (28*28 image is 784 features)\n",
    "n_features = 784\n",
    "# Number of labels\n",
    "n_labels = 3\n",
    "\n",
    "# Features and Labels\n",
    "features = tf.placeholder(tf.float32);\n",
    "labels   = tf.placeholder(tf.float32);\n",
    "\n",
    "# Weights and Biases\n",
    "w = get_weights(n_features, n_labels);\n",
    "b = get_biases(n_labels);\n",
    "\n",
    "# Linear Function xW + b\n",
    "logits = linear(features, w, b);\n",
    "\n",
    "print(\"------------------------\")\n",
    "print(\"w      = \", w)\n",
    "print(\"b      = \", b)\n",
    "print(\"logits = \", logits)\n",
    "print(\"------------------------\")\n",
    "\n",
    "# Training data\n",
    "# 数多くのデータの中から、ラベルが 0～2　のデータを抽出する\n",
    "train_features, train_labels = mnist_features_labels(n_labels);"
   ]
  },
  {
   "cell_type": "markdown",
   "metadata": {},
   "source": [
    "### 説明\n",
    "- mnist_feature : 28x28 = 784の画像データを1次元ベクトルにしたもの\n",
    "- mnist_label   : 0,1,2の画像の真値、one-hot形式"
   ]
  },
  {
   "cell_type": "code",
   "execution_count": 4,
   "metadata": {},
   "outputs": [
    {
     "name": "stdout",
     "output_type": "stream",
     "text": [
      "cross_entropy =  Tensor(\"Neg:0\", dtype=float32)\n",
      "loss =  Tensor(\"Mean:0\", shape=(), dtype=float32)\n",
      "Loss: 7.679492473602295\n"
     ]
    }
   ],
   "source": [
    "with tf.Session() as session:\n",
    "    # TODO: Initialize session variables\n",
    "    init = tf.global_variables_initializer()\n",
    "    session.run(init)\n",
    "    \n",
    "    # Softmax\n",
    "    prediction = tf.nn.softmax(logits)\n",
    "\n",
    "    # Cross entropy\n",
    "    # This quantifies how far off the predictions were.\n",
    "    # You'll learn more about this in future lessons.\n",
    "    # reduce_sum = 配列内のすべての要素を足し算する関数\n",
    "    cross_entropy = -tf.reduce_sum(labels * tf.log(prediction), reduction_indices=1)\n",
    "    \n",
    "    # Training loss\n",
    "    # You'll learn more about this in future lessons.\n",
    "    # reduce_mean = 与えたリストに入っている数値の平均値を求める関数\n",
    "    loss = tf.reduce_mean(cross_entropy)\n",
    "\n",
    "    # Rate at which the weights are changed\n",
    "    # You'll learn more about this in future lessons.\n",
    "    learning_rate = 0.08\n",
    "\n",
    "    # Gradient Descent\n",
    "    # This is the method used to train the model\n",
    "    # You'll learn more about this in future lessons.\n",
    "    optimizer = tf.train.GradientDescentOptimizer(learning_rate).minimize(loss)\n",
    "\n",
    "    # Run optimizer and get loss\n",
    "    _, l = session.run( [optimizer, loss],\n",
    "                        feed_dict = {features: train_features, labels: train_labels})\n",
    "\n",
    "# Print loss\n",
    "print('Loss: {}'.format(l))"
   ]
  },
  {
   "cell_type": "code",
   "execution_count": null,
   "metadata": {},
   "outputs": [],
   "source": []
  }
 ],
 "metadata": {
  "kernelspec": {
   "display_name": "Python 3",
   "language": "python",
   "name": "python3"
  },
  "language_info": {
   "codemirror_mode": {
    "name": "ipython",
    "version": 3
   },
   "file_extension": ".py",
   "mimetype": "text/x-python",
   "name": "python",
   "nbconvert_exporter": "python",
   "pygments_lexer": "ipython3",
   "version": "3.6.8"
  }
 },
 "nbformat": 4,
 "nbformat_minor": 2
}
